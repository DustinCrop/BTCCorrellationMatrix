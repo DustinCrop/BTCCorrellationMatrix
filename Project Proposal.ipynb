{
 "cells": [
  {
   "cell_type": "code",
   "execution_count": 3,
   "id": "f4f4e660-6378-4ce6-8b51-8bf66bac2b58",
   "metadata": {},
   "outputs": [],
   "source": [
    "#Project Proposal\n"
   ]
  },
  {
   "cell_type": "code",
   "execution_count": null,
   "id": "c3b9ff1f-a5c3-4e58-93c6-c863a9918858",
   "metadata": {},
   "outputs": [],
   "source": []
  }
 ],
 "metadata": {
  "kernelspec": {
   "display_name": "Python 3",
   "language": "python",
   "name": "python3"
  },
  "language_info": {
   "codemirror_mode": {
    "name": "ipython",
    "version": 3
   },
   "file_extension": ".py",
   "mimetype": "text/x-python",
   "name": "python",
   "nbconvert_exporter": "python",
   "pygments_lexer": "ipython3",
   "version": "3.8.5"
  }
 },
 "nbformat": 4,
 "nbformat_minor": 5
}
