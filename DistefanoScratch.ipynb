{
 "cells": [
  {
   "cell_type": "code",
   "execution_count": 1,
   "id": "d43aac1f-008b-4d6c-b23e-a69271b1373b",
   "metadata": {},
   "outputs": [
    {
     "name": "stdout",
     "output_type": "stream",
     "text": [
      "Requirement already satisfied: alpaca_trade_api in c:\\users\\n1ck_\\anaconda3\\lib\\site-packages (1.2.3)\n",
      "Requirement already satisfied: requests<3,>2 in c:\\users\\n1ck_\\anaconda3\\lib\\site-packages (from alpaca_trade_api) (2.26.0)\n",
      "Requirement already satisfied: websockets<10,>=8.0 in c:\\users\\n1ck_\\anaconda3\\lib\\site-packages (from alpaca_trade_api) (9.1)\n",
      "Requirement already satisfied: websocket-client<2,>=0.56.0 in c:\\users\\n1ck_\\anaconda3\\lib\\site-packages (from alpaca_trade_api) (1.1.0)\n",
      "Requirement already satisfied: pandas in c:\\users\\n1ck_\\anaconda3\\lib\\site-packages (from alpaca_trade_api) (1.3.0)\n",
      "Requirement already satisfied: numpy in c:\\users\\n1ck_\\anaconda3\\lib\\site-packages (from alpaca_trade_api) (1.20.3)\n",
      "Requirement already satisfied: msgpack==1.0.2 in c:\\users\\n1ck_\\anaconda3\\lib\\site-packages (from alpaca_trade_api) (1.0.2)\n",
      "Requirement already satisfied: urllib3<2,>1.24 in c:\\users\\n1ck_\\anaconda3\\lib\\site-packages (from alpaca_trade_api) (1.26.6)\n",
      "Requirement already satisfied: certifi>=2017.4.17 in c:\\users\\n1ck_\\anaconda3\\lib\\site-packages (from requests<3,>2->alpaca_trade_api) (2021.5.30)\n",
      "Requirement already satisfied: charset-normalizer~=2.0.0 in c:\\users\\n1ck_\\anaconda3\\lib\\site-packages (from requests<3,>2->alpaca_trade_api) (2.0.3)\n",
      "Requirement already satisfied: idna<4,>=2.5 in c:\\users\\n1ck_\\anaconda3\\lib\\site-packages (from requests<3,>2->alpaca_trade_api) (2.10)\n",
      "Requirement already satisfied: pytz>=2017.3 in c:\\users\\n1ck_\\anaconda3\\lib\\site-packages (from pandas->alpaca_trade_api) (2021.1)\n",
      "Requirement already satisfied: python-dateutil>=2.7.3 in c:\\users\\n1ck_\\anaconda3\\lib\\site-packages (from pandas->alpaca_trade_api) (2.8.2)\n",
      "Requirement already satisfied: six>=1.5 in c:\\users\\n1ck_\\anaconda3\\lib\\site-packages (from python-dateutil>=2.7.3->pandas->alpaca_trade_api) (1.16.0)\n",
      "Note: you may need to restart the kernel to use updated packages.\n"
     ]
    }
   ],
   "source": [
    "pip install alpaca_trade_api\n"
   ]
  },
  {
   "cell_type": "code",
   "execution_count": 2,
   "id": "f652c892-1352-4744-9035-a4d40ed04e99",
   "metadata": {},
   "outputs": [
    {
     "data": {
      "text/plain": [
       "True"
      ]
     },
     "execution_count": 2,
     "metadata": {},
     "output_type": "execute_result"
    }
   ],
   "source": [
    "import os\n",
    "import requests\n",
    "import pandas as pd\n",
    "from dotenv import load_dotenv\n",
    "import alpaca_trade_api as tradeapi\n",
    "import numpy as np\n",
    "import matplotlib.pyplot as plt\n",
    "import json\n",
    "from pandas import json_normalize\n",
    "\n",
    "%matplotlib inline\n",
    "\n",
    "load_dotenv()"
   ]
  },
  {
   "cell_type": "code",
   "execution_count": 3,
   "id": "66ca55ce-35a2-4b99-9826-dec666b4c4dd",
   "metadata": {},
   "outputs": [
    {
     "name": "stdout",
     "output_type": "stream",
     "text": [
      "Alpaca key type:<class 'str'>\n",
      "Alpaca secret tyep: <class 'str'>\n"
     ]
    }
   ],
   "source": [
    "# Load .env enviroment variables\n",
    "from dotenv import load_dotenv\n",
    "load_dotenv()\n",
    "# Set Alpaca API key and secret\n",
    "alpaca_api_key = os.getenv('ALPACA_API_KEY')\n",
    "alpaca_secret_key = os.getenv('ALPACA_SECRET_KEY')\n",
    "# Verify that Alpaca keys were loaded\n",
    "print(f'Alpaca key type:{type(alpaca_api_key)}')\n",
    "print(f'Alpaca secret tyep: {type(alpaca_secret_key)}')"
   ]
  },
  {
   "cell_type": "code",
   "execution_count": 4,
   "id": "42832f9a-d76d-4318-a97c-1d956f4a400c",
   "metadata": {},
   "outputs": [],
   "source": [
    "#load Alpaca \n",
    "alpaca = tradeapi.REST(\n",
    "    alpaca_api_key,\n",
    "    alpaca_secret_key,\n",
    "    api_version=\"v2\")"
   ]
  },
  {
   "cell_type": "code",
   "execution_count": 5,
   "id": "6c2a275a-08ca-433f-9985-fe3db81cbc83",
   "metadata": {},
   "outputs": [
    {
     "data": {
      "text/html": [
       "<div>\n",
       "<style scoped>\n",
       "    .dataframe tbody tr th:only-of-type {\n",
       "        vertical-align: middle;\n",
       "    }\n",
       "\n",
       "    .dataframe tbody tr th {\n",
       "        vertical-align: top;\n",
       "    }\n",
       "\n",
       "    .dataframe thead tr th {\n",
       "        text-align: left;\n",
       "    }\n",
       "\n",
       "    .dataframe thead tr:last-of-type th {\n",
       "        text-align: right;\n",
       "    }\n",
       "</style>\n",
       "<table border=\"1\" class=\"dataframe\">\n",
       "  <thead>\n",
       "    <tr>\n",
       "      <th></th>\n",
       "      <th colspan=\"5\" halign=\"left\">SPY</th>\n",
       "    </tr>\n",
       "    <tr>\n",
       "      <th></th>\n",
       "      <th>open</th>\n",
       "      <th>high</th>\n",
       "      <th>low</th>\n",
       "      <th>close</th>\n",
       "      <th>volume</th>\n",
       "    </tr>\n",
       "    <tr>\n",
       "      <th>time</th>\n",
       "      <th></th>\n",
       "      <th></th>\n",
       "      <th></th>\n",
       "      <th></th>\n",
       "      <th></th>\n",
       "    </tr>\n",
       "  </thead>\n",
       "  <tbody>\n",
       "    <tr>\n",
       "      <th>2020-07-22 00:00:00-04:00</th>\n",
       "      <td>324.62</td>\n",
       "      <td>327.20</td>\n",
       "      <td>324.5000</td>\n",
       "      <td>326.820</td>\n",
       "      <td>76092164</td>\n",
       "    </tr>\n",
       "    <tr>\n",
       "      <th>2020-07-23 00:00:00-04:00</th>\n",
       "      <td>326.47</td>\n",
       "      <td>327.23</td>\n",
       "      <td>321.4800</td>\n",
       "      <td>322.935</td>\n",
       "      <td>136040824</td>\n",
       "    </tr>\n",
       "    <tr>\n",
       "      <th>2020-07-24 00:00:00-04:00</th>\n",
       "      <td>320.42</td>\n",
       "      <td>321.99</td>\n",
       "      <td>319.2460</td>\n",
       "      <td>320.860</td>\n",
       "      <td>101595687</td>\n",
       "    </tr>\n",
       "    <tr>\n",
       "      <th>2020-07-27 00:00:00-04:00</th>\n",
       "      <td>321.63</td>\n",
       "      <td>323.41</td>\n",
       "      <td>320.7750</td>\n",
       "      <td>323.180</td>\n",
       "      <td>42586195</td>\n",
       "    </tr>\n",
       "    <tr>\n",
       "      <th>2020-07-28 00:00:00-04:00</th>\n",
       "      <td>322.43</td>\n",
       "      <td>323.64</td>\n",
       "      <td>320.8500</td>\n",
       "      <td>321.200</td>\n",
       "      <td>89696334</td>\n",
       "    </tr>\n",
       "    <tr>\n",
       "      <th>...</th>\n",
       "      <td>...</td>\n",
       "      <td>...</td>\n",
       "      <td>...</td>\n",
       "      <td>...</td>\n",
       "      <td>...</td>\n",
       "    </tr>\n",
       "    <tr>\n",
       "      <th>2021-07-20 00:00:00-04:00</th>\n",
       "      <td>425.68</td>\n",
       "      <td>432.42</td>\n",
       "      <td>424.8300</td>\n",
       "      <td>431.040</td>\n",
       "      <td>87430308</td>\n",
       "    </tr>\n",
       "    <tr>\n",
       "      <th>2021-07-21 00:00:00-04:00</th>\n",
       "      <td>432.34</td>\n",
       "      <td>434.70</td>\n",
       "      <td>431.0111</td>\n",
       "      <td>434.560</td>\n",
       "      <td>54251351</td>\n",
       "    </tr>\n",
       "    <tr>\n",
       "      <th>2021-07-22 00:00:00-04:00</th>\n",
       "      <td>434.74</td>\n",
       "      <td>435.72</td>\n",
       "      <td>433.6900</td>\n",
       "      <td>435.500</td>\n",
       "      <td>41998182</td>\n",
       "    </tr>\n",
       "    <tr>\n",
       "      <th>2021-07-23 00:00:00-04:00</th>\n",
       "      <td>437.53</td>\n",
       "      <td>440.30</td>\n",
       "      <td>436.7900</td>\n",
       "      <td>439.900</td>\n",
       "      <td>53294703</td>\n",
       "    </tr>\n",
       "    <tr>\n",
       "      <th>2021-07-26 00:00:00-04:00</th>\n",
       "      <td>439.31</td>\n",
       "      <td>441.03</td>\n",
       "      <td>439.2600</td>\n",
       "      <td>440.990</td>\n",
       "      <td>40155852</td>\n",
       "    </tr>\n",
       "  </tbody>\n",
       "</table>\n",
       "<p>255 rows × 5 columns</p>\n",
       "</div>"
      ],
      "text/plain": [
       "                              SPY                                      \n",
       "                             open    high       low    close     volume\n",
       "time                                                                   \n",
       "2020-07-22 00:00:00-04:00  324.62  327.20  324.5000  326.820   76092164\n",
       "2020-07-23 00:00:00-04:00  326.47  327.23  321.4800  322.935  136040824\n",
       "2020-07-24 00:00:00-04:00  320.42  321.99  319.2460  320.860  101595687\n",
       "2020-07-27 00:00:00-04:00  321.63  323.41  320.7750  323.180   42586195\n",
       "2020-07-28 00:00:00-04:00  322.43  323.64  320.8500  321.200   89696334\n",
       "...                           ...     ...       ...      ...        ...\n",
       "2021-07-20 00:00:00-04:00  425.68  432.42  424.8300  431.040   87430308\n",
       "2021-07-21 00:00:00-04:00  432.34  434.70  431.0111  434.560   54251351\n",
       "2021-07-22 00:00:00-04:00  434.74  435.72  433.6900  435.500   41998182\n",
       "2021-07-23 00:00:00-04:00  437.53  440.30  436.7900  439.900   53294703\n",
       "2021-07-26 00:00:00-04:00  439.31  441.03  439.2600  440.990   40155852\n",
       "\n",
       "[255 rows x 5 columns]"
      ]
     },
     "execution_count": 5,
     "metadata": {},
     "output_type": "execute_result"
    }
   ],
   "source": [
    "# Format current date as ISO format\n",
    "# YOUR CODE HERE!\n",
    "today = pd.Timestamp(\"2020-07-22\", tz=\"America/New_York\").isoformat()\n",
    "# Set the tickers\n",
    "tickers = ['SPY']\n",
    "\n",
    "# Set timeframe to '1D' for Alpaca API\n",
    "timeframe = \"1D\"\n",
    "\n",
    "# Get current closing prices for SPY \n",
    "# YOUR CODE HERE!\n",
    "df_spy = alpaca.get_barset(\n",
    "    tickers,\n",
    "    timeframe,\n",
    "    start = today,\n",
    "    limit = 1000\n",
    ").df\n",
    "# Preview DataFrame\n",
    "# YOUR CODE HERE!\n",
    "df_spy\n"
   ]
  },
  {
   "cell_type": "code",
   "execution_count": 29,
   "id": "4e32c43e-84f1-4053-8d7b-7e9c7963d981",
   "metadata": {},
   "outputs": [
    {
     "data": {
      "text/plain": [
       "326.82"
      ]
     },
     "execution_count": 29,
     "metadata": {},
     "output_type": "execute_result"
    }
   ],
   "source": [
    "#set spy closing prices\n",
    "spy_close_price = df_spy['SPY']['close'][0]\n",
    "spy_close_price"
   ]
  },
  {
   "cell_type": "code",
   "execution_count": 39,
   "id": "94d907a8-e53e-4387-84a6-643640ca13db",
   "metadata": {},
   "outputs": [
    {
     "data": {
      "text/plain": [
       "{'Response': 'Success',\n",
       " 'Message': '',\n",
       " 'HasWarning': False,\n",
       " 'Type': 100,\n",
       " 'RateLimit': {},\n",
       " 'Data': {'Aggregated': False,\n",
       "  'TimeFrom': 1626480000,\n",
       "  'TimeTo': 1627344000,\n",
       "  'Data': [{'time': 1626480000,\n",
       "    'high': 31966.25,\n",
       "    'low': 31194.16,\n",
       "    'open': 31401.76,\n",
       "    'volumefrom': 27922.98,\n",
       "    'volumeto': 881285396.92,\n",
       "    'close': 31546.64,\n",
       "    'conversionType': 'direct',\n",
       "    'conversionSymbol': ''},\n",
       "   {'time': 1626566400,\n",
       "    'high': 32446.17,\n",
       "    'low': 31131.67,\n",
       "    'open': 31546.64,\n",
       "    'volumefrom': 25079.04,\n",
       "    'volumeto': 796652696.45,\n",
       "    'close': 31806.3,\n",
       "    'conversionType': 'direct',\n",
       "    'conversionSymbol': ''},\n",
       "   {'time': 1626652800,\n",
       "    'high': 31907.17,\n",
       "    'low': 30487.11,\n",
       "    'open': 31806.3,\n",
       "    'volumefrom': 38060.99,\n",
       "    'volumeto': 1179342118.61,\n",
       "    'close': 30847.55,\n",
       "    'conversionType': 'direct',\n",
       "    'conversionSymbol': ''},\n",
       "   {'time': 1626739200,\n",
       "    'high': 31063.88,\n",
       "    'low': 29320.09,\n",
       "    'open': 30847.55,\n",
       "    'volumefrom': 43333.42,\n",
       "    'volumeto': 1291958152.32,\n",
       "    'close': 29795.55,\n",
       "    'conversionType': 'direct',\n",
       "    'conversionSymbol': ''},\n",
       "   {'time': 1626825600,\n",
       "    'high': 32814.13,\n",
       "    'low': 29513.88,\n",
       "    'open': 29795.55,\n",
       "    'volumefrom': 48925.57,\n",
       "    'volumeto': 1538668590.41,\n",
       "    'close': 32139.48,\n",
       "    'conversionType': 'direct',\n",
       "    'conversionSymbol': ''},\n",
       "   {'time': 1626912000,\n",
       "    'high': 32604.4,\n",
       "    'low': 31738.48,\n",
       "    'open': 32139.48,\n",
       "    'volumefrom': 24409.69,\n",
       "    'volumeto': 785311959.3,\n",
       "    'close': 32299.47,\n",
       "    'conversionType': 'direct',\n",
       "    'conversionSymbol': ''},\n",
       "   {'time': 1626998400,\n",
       "    'high': 33637.93,\n",
       "    'low': 32012.62,\n",
       "    'open': 32299.47,\n",
       "    'volumefrom': 23478.17,\n",
       "    'volumeto': 765209760.41,\n",
       "    'close': 33637.92,\n",
       "    'conversionType': 'direct',\n",
       "    'conversionSymbol': ''},\n",
       "   {'time': 1627084800,\n",
       "    'high': 34519.75,\n",
       "    'low': 33429.09,\n",
       "    'open': 33637.92,\n",
       "    'volumefrom': 20217.05,\n",
       "    'volumeto': 686017155.75,\n",
       "    'close': 34282.56,\n",
       "    'conversionType': 'direct',\n",
       "    'conversionSymbol': ''},\n",
       "   {'time': 1627171200,\n",
       "    'high': 35382.63,\n",
       "    'low': 33892.36,\n",
       "    'open': 34282.56,\n",
       "    'volumefrom': 22685.72,\n",
       "    'volumeto': 781929775.48,\n",
       "    'close': 35369.93,\n",
       "    'conversionType': 'direct',\n",
       "    'conversionSymbol': ''},\n",
       "   {'time': 1627257600,\n",
       "    'high': 40553.85,\n",
       "    'low': 35270.24,\n",
       "    'open': 35369.93,\n",
       "    'volumefrom': 100269.43,\n",
       "    'volumeto': 3840983132.28,\n",
       "    'close': 37269.52,\n",
       "    'conversionType': 'direct',\n",
       "    'conversionSymbol': ''},\n",
       "   {'time': 1627344000,\n",
       "    'high': 37524.56,\n",
       "    'low': 37013.93,\n",
       "    'open': 37269.52,\n",
       "    'volumefrom': 2756.65,\n",
       "    'volumeto': 102785547.8,\n",
       "    'close': 37212.81,\n",
       "    'conversionType': 'direct',\n",
       "    'conversionSymbol': ''}]}}"
      ]
     },
     "execution_count": 39,
     "metadata": {},
     "output_type": "execute_result"
    }
   ],
   "source": [
    "# Crypto API URLs\n",
    "btc_url = 'https://min-api.cryptocompare.com/data/v2/histoday?fsym=BTC&tsym=USD&limit=10'\n",
    "btc_respond = requests.get(btc_url).json()\n",
    "btc_respond"
   ]
  },
  {
   "cell_type": "code",
   "execution_count": 20,
   "id": "cca86d7d-c03f-4dcf-a4aa-6f338b7c3dd8",
   "metadata": {},
   "outputs": [],
   "source": [
    "#Rewriting column names \n",
    "#columns = ['BlockNumber', 'TimeStamp', 'Hash', 'Nonce', 'BlockHash', 'AddFrom', 'ContractAddress', 'AddTo', 'Value']\n",
    "#btc_url.columns = columns"
   ]
  },
  {
   "cell_type": "code",
   "execution_count": 21,
   "id": "eb2459d4-4583-4d3f-b6a9-b1f169319b0c",
   "metadata": {},
   "outputs": [],
   "source": [
    "#Change timestamp column to int\n",
    "#btc_timestamp = btc_url_content.columns['last_updated']"
   ]
  },
  {
   "cell_type": "code",
   "execution_count": 23,
   "id": "633b4735-b31d-40b6-bde4-948661861231",
   "metadata": {},
   "outputs": [],
   "source": [
    "#btc_respond['data']['1']"
   ]
  },
  {
   "cell_type": "code",
   "execution_count": 24,
   "id": "f53f6188-57cf-4815-98d6-5849b84e6a04",
   "metadata": {},
   "outputs": [
    {
     "data": {
      "text/plain": [
       "(37387.0, 1627346691)"
      ]
     },
     "execution_count": 24,
     "metadata": {},
     "output_type": "execute_result"
    }
   ],
   "source": [
    "#btc_respond = requests.get(btc_url).json()\n",
    "#btc_price = btc_respond['data']['1']['quotes']['USD']['price'], btc_respond['data']['1']['last_updated']\n",
    "#btc_price"
   ]
  },
  {
   "cell_type": "code",
   "execution_count": 25,
   "id": "af716e4f-e8c7-4e5a-a846-d2e435a516fe",
   "metadata": {},
   "outputs": [],
   "source": [
    "btc_timestamp = btc_respond['data']['1']['last_updated']"
   ]
  },
  {
   "cell_type": "code",
   "execution_count": 26,
   "id": "c46fc407-ca82-4a85-9e52-7312960f025e",
   "metadata": {},
   "outputs": [
    {
     "ename": "SyntaxError",
     "evalue": "invalid syntax (<ipython-input-26-a7df95f27b77>, line 30)",
     "output_type": "error",
     "traceback": [
      "\u001b[1;36m  File \u001b[1;32m\"<ipython-input-26-a7df95f27b77>\"\u001b[1;36m, line \u001b[1;32m30\u001b[0m\n\u001b[1;33m    \"market_cap\": btc_market_cap_list,\u001b[0m\n\u001b[1;37m    ^\u001b[0m\n\u001b[1;31mSyntaxError\u001b[0m\u001b[1;31m:\u001b[0m invalid syntax\n"
     ]
    }
   ],
   "source": [
    "# Fetch current BTC price\n",
    "# YOUR CODE HERE!\n",
    "\n",
    "#btc_price = btc_respond['data']['1']['quotes']['USD']['price']\n",
    "#btc_volume_24h = btc_respond['data']['1']['quotes']['USD']['volume_24h']\n",
    "#btc_7d = btc_respond['data']['1']['quotes']['USD']['percentage_change_7d']\n",
    "\n",
    "#create empty df\n",
    "#create empty lists\n",
    "btc_price_list = []\n",
    "\n",
    "\n",
    "for data_num in btc_respond['data'].keys():\n",
    "    btc_price = btc_respond['data'][data_num]['quotes']['USD']['price']\n",
    "    #append to price list\n",
    "    btc_price_list.append(btc_price)\n",
    "    \n",
    "    btc_volume_24h = btc_respond['data'][data_num]['quotes']['USD']['volume_24h']\n",
    "    #append to volumn_24h_list\n",
    "    btc_volume_24h_list.append(btc_volume_24h)\n",
    "    #append to market cap \n",
    "    btc_market_cap = btc_respond['data'][data_num]['quotes']['USD']['market_cap']\n",
    "    btc_market_cap_list.append(btc_market_cap)\n",
    "    #append last updated(WHICH IS THE !!TIMESTAMP!!)\n",
    "    last_updated = btc_respond['data'][data_num]['last_updated']\n",
    "    timestamp_list.append(last_updated)\n",
    "    \n",
    "btc_dict = {\"btc_price\":btc_price_list,\n",
    "                \"24h_volume\": btc_volume_24h_list\n",
    "                \"market_cap\": btc_market_cap_list,\n",
    "               \"date\": timestamp_list}  \n",
    "\n",
    "new_df = pd.DataFrame(dictionary)\n",
    "\n",
    "    \n",
    "    # add to empty data frame with data\n",
    "    "
   ]
  },
  {
   "cell_type": "code",
   "execution_count": null,
   "id": "d4b47b37-fad9-417a-bd1b-b1b8ab3162b5",
   "metadata": {},
   "outputs": [],
   "source": []
  },
  {
   "cell_type": "code",
   "execution_count": null,
   "id": "ace866ec-1cb7-47ca-9f80-b15043f972ad",
   "metadata": {},
   "outputs": [],
   "source": []
  },
  {
   "cell_type": "code",
   "execution_count": null,
   "id": "8bbf7b64-5c26-466a-a0b2-cbb61ef4be57",
   "metadata": {},
   "outputs": [],
   "source": []
  },
  {
   "cell_type": "code",
   "execution_count": null,
   "id": "cc092e1d-9fa9-43c0-aab4-139936442922",
   "metadata": {},
   "outputs": [],
   "source": []
  },
  {
   "cell_type": "code",
   "execution_count": null,
   "id": "4d6983a0-b0a8-44c9-b8c8-47f7aa14808b",
   "metadata": {},
   "outputs": [],
   "source": []
  }
 ],
 "metadata": {
  "kernelspec": {
   "display_name": "Python 3",
   "language": "python",
   "name": "python3"
  },
  "language_info": {
   "codemirror_mode": {
    "name": "ipython",
    "version": 3
   },
   "file_extension": ".py",
   "mimetype": "text/x-python",
   "name": "python",
   "nbconvert_exporter": "python",
   "pygments_lexer": "ipython3",
   "version": "3.8.5"
  }
 },
 "nbformat": 4,
 "nbformat_minor": 5
}
